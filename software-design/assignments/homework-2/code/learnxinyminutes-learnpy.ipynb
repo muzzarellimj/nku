{
 "cells": [
  {
   "cell_type": "code",
   "execution_count": 8,
   "id": "9dc7110d-4b9d-43b0-9553-cf21802dfaff",
   "metadata": {},
   "outputs": [],
   "source": [
    "########################################\n",
    "# Primitive Datatypes and Operators\n",
    "########################################"
   ]
  },
  {
   "cell_type": "code",
   "execution_count": 9,
   "id": "81363265-eb3e-44d7-862c-0081000eb3b6",
   "metadata": {},
   "outputs": [
    {
     "data": {
      "text/plain": [
       "True"
      ]
     },
     "execution_count": 9,
     "metadata": {},
     "output_type": "execute_result"
    }
   ],
   "source": [
    "# boolean negation\n",
    "not True # => false\n",
    "not False # => true"
   ]
  },
  {
   "cell_type": "code",
   "execution_count": 10,
   "id": "6ce14493-45e5-434b-9c73-28e2ed7d8a3e",
   "metadata": {},
   "outputs": [
    {
     "data": {
      "text/plain": [
       "2"
      ]
     },
     "execution_count": 10,
     "metadata": {},
     "output_type": "execute_result"
    }
   ],
   "source": [
    "# true and false represented as integers\n",
    "True + True"
   ]
  },
  {
   "cell_type": "code",
   "execution_count": 11,
   "id": "bcb8df03-93a8-490c-96be-5dce3911f6c0",
   "metadata": {},
   "outputs": [],
   "source": [
    "########################################\n",
    "# Variables and Collections\n",
    "########################################"
   ]
  },
  {
   "cell_type": "code",
   "execution_count": 12,
   "id": "5e226b79-956e-485d-b256-ddad7b7ffeed",
   "metadata": {},
   "outputs": [
    {
     "name": "stdin",
     "output_type": "stream",
     "text": [
      "Enter a value:  foo\n"
     ]
    }
   ],
   "source": [
    "# input\n",
    "input_string_var = input(\"Enter a value: \")"
   ]
  },
  {
   "cell_type": "code",
   "execution_count": 14,
   "id": "c9ee71fa-ee6e-4f77-9327-27feba463f73",
   "metadata": {},
   "outputs": [
    {
     "name": "stdout",
     "output_type": "stream",
     "text": [
      "[1, 2, 5]\n"
     ]
    }
   ],
   "source": [
    "# lists store sequences\n",
    "li = []\n",
    "\n",
    "li.append(1)\n",
    "li.append(2)\n",
    "li.append(3)\n",
    "li.pop()\n",
    "li.append(5)\n",
    "\n",
    "print(li)"
   ]
  },
  {
   "cell_type": "code",
   "execution_count": 15,
   "id": "ce5b42e2-895f-4bea-967a-e7589ec73ab4",
   "metadata": {},
   "outputs": [
    {
     "data": {
      "text/plain": [
       "3"
      ]
     },
     "execution_count": 15,
     "metadata": {},
     "output_type": "execute_result"
    }
   ],
   "source": [
    "# dictionaries store mappings from keys to values\n",
    "dict = { \"one\": 1, \"two\": 2, \"three\": 3 }\n",
    "\n",
    "dict.get(\"three\")"
   ]
  },
  {
   "cell_type": "code",
   "execution_count": null,
   "id": "0203b8ff-389c-4eda-8b9b-90614d648de0",
   "metadata": {},
   "outputs": [],
   "source": [
    "########################################\n",
    "# Control Flow and Iterables\n",
    "########################################"
   ]
  },
  {
   "cell_type": "code",
   "execution_count": 16,
   "id": "ba8835b8-0fcb-4eb0-847d-955e4d8d4ded",
   "metadata": {},
   "outputs": [
    {
     "name": "stdout",
     "output_type": "stream",
     "text": [
      "We can clean up resources here\n"
     ]
    }
   ],
   "source": [
    "try:\n",
    "    raise IndexError(\"This is an index error\")\n",
    "except IndexError as e:\n",
    "    pass\n",
    "except (TypeError, NameError):\n",
    "    pass\n",
    "else:\n",
    "    print(\"All good!\")\n",
    "finally:\n",
    "    print(\"We can clean up resources here\")"
   ]
  },
  {
   "cell_type": "code",
   "execution_count": null,
   "id": "a372362c-577d-4afe-99d3-0b74d17a32b7",
   "metadata": {},
   "outputs": [],
   "source": [
    "########################################\n",
    "# Classes\n",
    "########################################"
   ]
  },
  {
   "cell_type": "code",
   "execution_count": 18,
   "id": "82308e90-1d70-4922-82bc-6fc86c32807b",
   "metadata": {},
   "outputs": [
    {
     "name": "stdout",
     "output_type": "stream",
     "text": [
      "Michael: Hello!\n",
      "Michael: H. sapiens\n"
     ]
    }
   ],
   "source": [
    "class Human:\n",
    "    # class attribute - shared by all instances\n",
    "    species = \"H. sapiens\"\n",
    "\n",
    "    def __init__(self, name):\n",
    "        self.name = name\n",
    "        self._age = 0\n",
    "\n",
    "    # instance method calls self as first argument\n",
    "    def say(self, msg):\n",
    "        print(\"{name}: {message}\".format(name=self.name, message=msg))\n",
    "\n",
    "    # class method shared among all instances with class as the first argument\n",
    "    @classmethod\n",
    "    def get_species(cls):\n",
    "        return cls.species\n",
    "\n",
    "if __name__ == '__main__':\n",
    "    i = Human(name=\"Michael\")\n",
    "    i.say(\"Hello!\")\n",
    "    i.say(i.get_species())"
   ]
  },
  {
   "cell_type": "code",
   "execution_count": 21,
   "id": "4fc409e8-d5ad-4708-b95d-37d77f84caa3",
   "metadata": {},
   "outputs": [
    {
     "name": "stdout",
     "output_type": "stream",
     "text": [
      "Superman: Hello!\n",
      "Superman: Superhero\n"
     ]
    }
   ],
   "source": [
    "class Human:\n",
    "    species = \"H. sapiens\"\n",
    "    \n",
    "    def __init__(self, name):\n",
    "        self.name = name\n",
    "\n",
    "    @classmethod\n",
    "    def get_species(cls):\n",
    "        return cls.species\n",
    "\n",
    "class Superhero(Human):\n",
    "    species = \"Superhero\"\n",
    "\n",
    "    def __init__(self, name):\n",
    "        super().__init__(name)\n",
    "\n",
    "    def say(self, msg):\n",
    "        print(\"{name}: {message}\".format(name=self.name, message=msg))\n",
    "\n",
    "if __name__ == '__main__':\n",
    "    i = Superhero(name=\"Superman\")\n",
    "    i.say(\"Hello!\")\n",
    "    i.say(i.get_species())"
   ]
  },
  {
   "cell_type": "code",
   "execution_count": null,
   "id": "194fb4bd-201b-4e70-8021-38c36d6bf8bb",
   "metadata": {},
   "outputs": [],
   "source": []
  }
 ],
 "metadata": {
  "kernelspec": {
   "display_name": "Python 3 (ipykernel)",
   "language": "python",
   "name": "python3"
  },
  "language_info": {
   "codemirror_mode": {
    "name": "ipython",
    "version": 3
   },
   "file_extension": ".py",
   "mimetype": "text/x-python",
   "name": "python",
   "nbconvert_exporter": "python",
   "pygments_lexer": "ipython3",
   "version": "3.11.5"
  }
 },
 "nbformat": 4,
 "nbformat_minor": 5
}
